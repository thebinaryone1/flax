{
 "cells": [
  {
   "cell_type": "markdown",
   "id": "887a5094",
   "metadata": {},
   "source": [
    "# Migrate checkpointing to Orbax\n",
    "\n",
    "This guide shows how to convert Flax's checkpoint saving and restoring calls — [`flax.training.checkpoints.save_checkpoint`](https://flax.readthedocs.io/en/latest/api_reference/flax.training.html#flax.training.checkpoints.save_checkpoint) and [`restore_checkpoint`](https://flax.readthedocs.io/en/latest/api_reference/flax.training.html#flax.training.checkpoints.restore_checkpoint) — to the equivalent [Orbax](https://github.com/google/orbax) methods. Orbax provides a flexible and customizable API for managing checkpoints for various objects. Note that as Flax's checkpointing is being migrated to Orbax from `flax.training.checkpoints`, all existing features in the Flax API will continue to be supported, but the API will change.\n",
    "\n",
    "You will learn how to migrate to Orbax through the following scenarios:\n",
    "\n",
    "* The most common use case: Saving/loading and managing checkpoints\n",
    "* A \"lightweight\" use case: \"Pure\" saving/loading without the top-level variable\n",
    "* Restoring checkpoints without a target pytree\n",
    "* Async checkpointing\n",
    "* Saving/loading a single JAX or NumPy Array\n",
    "\n",
    "To learn more about Orbax, check out the [quick start introductory Colab notebook](http://colab.research.google.com/github/google/orbax/blob/main/orbax//checkpoint/orbax_checkpoint.ipynb) and [the official Orbax documentation](https://github.com/google/orbax/blob/main/docs/checkpoint.md)."
   ]
  },
  {
   "cell_type": "markdown",
   "id": "e93b2509",
   "metadata": {},
   "source": [
    "## Setup\n",
    "\n",
    "Install/upgrade [JAX](https://github.com/google/jax#installation), Flax and [Orbax](https://github.com/google/orbax). In addition, install [`nest_asyncio`](https://github.com/erdewit/nest_asyncio)."
   ]
  },
  {
   "cell_type": "code",
   "execution_count": 1,
   "id": "50bc6f1f",
   "metadata": {
    "tags": [
     "skip-execution"
    ]
   },
   "outputs": [],
   "source": [
    "!pip3 install -qq -U jaxlib jax flax orbax\n",
    "\n",
    "# This is only required for Orbax in Colab/notebook scenarios.\n",
    "!pip3 install -qq nest_asyncio"
   ]
  },
  {
   "cell_type": "code",
   "execution_count": 2,
   "id": "537936e7",
   "metadata": {},
   "outputs": [],
   "source": [
    "import os\n",
    "os.environ[\"XLA_FLAGS\"] = '--xla_force_host_platform_device_count=8'\n",
    "\n",
    "import flax\n",
    "from flax.training import checkpoints, orbax_utils\n",
    "import orbax.checkpoint\n",
    "import jax\n",
    "import jax.numpy as jnp\n",
    "import numpy as np\n",
    "from orbax import checkpoint as orbax_checkpoint\n",
    "# Orbax needs to have asyncio enabled in the Colab environment.\n",
    "import nest_asyncio\n",
    "nest_asyncio.apply()"
   ]
  },
  {
   "cell_type": "code",
   "execution_count": 3,
   "id": "e2e058eb",
   "metadata": {},
   "outputs": [],
   "source": [
    "# Create some dummy variables for this example.\n",
    "MAX_STEPS = 5\n",
    "CKPT_PYTREE = [12, {'foo': 'str', 'bar': np.array((2, 3))}, [1, 4, 10]]\n",
    "TARGET_PYTREE = [0, {'foo': '', 'bar': np.array((0))}, [0, 0, 0]]\n",
    "\n",
    "\n",
    "# For removing any existing checkpoints from the last notebook run:\n",
    "import shutil\n",
    "if os.path.exists('./tmp'):\n",
    "    shutil.rmtree('./tmp')"
   ]
  },
  {
   "cell_type": "markdown",
   "id": "c6099aa3",
   "metadata": {},
   "source": [
    "## Most common use case: Saving/loading and managing checkpoints\n",
    "\n",
    "This section covers the following scenario:\n",
    "\n",
    "*  Your original Flax `save_checkpoint()` or `save_checkpoint_multiprocess()` call contains the following arguments: `prefix`, `keep`, `keep_every_n_steps`; or\n",
    "*  You want to use some automatic management logic for your checkpoints (for example, for deleting old data, deleting data based on metrics/loss, and so on).\n",
    "\n",
    "In this case, you need to use `orbax.CheckpointManager`. This allows you to not only save and load your model, but also manage your checkpoints and delete outdated checkpoints *automatically*.\n",
    "\n",
    "To upgrade your code:\n",
    "\n",
    "1. Create and keep an `orbax.CheckpointManager` instance at the top level, customized with `orbax.CheckpointManagerOptions`.\n",
    "2. At runtime, call `orbax.CheckpointManager.save()` to save your data.\n",
    "3. Then, call `orbax.CheckpointManager.restore()` to restore your data.\n",
    "4. And, if your checkpoint includes some multi-host/multi-process array, pass the correct `mesh` into `flax.training.orbax_utils.restore_args_from_target()` to generate the correct `restore_args` before restoring.\n",
    "\n",
    "Below are code examples for before and after the migration to Orbax:"
   ]
  },
  {
   "cell_type": "code",
   "execution_count": 4,
   "id": "0945598a",
   "metadata": {},
   "outputs": [
    {
     "data": {
      "text/plain": [
       "[12, {'foo': 'str', 'bar': array([2, 3])}, [1, 4, 10]]"
      ]
     },
     "execution_count": 4,
     "metadata": {},
     "output_type": "execute_result"
    }
   ],
   "source": [
    "CKPT_DIR = './tmp/'\n",
    "\n",
    "# Before: Using the Flax API\n",
    "\n",
    "# Inside a training loop\n",
    "for step in range(MAX_STEPS):\n",
    "   # do your training\n",
    "   checkpoints.save_checkpoint(CKPT_DIR, CKPT_PYTREE, step=step,\n",
    "                               prefix='test_', keep=3, keep_every_n_steps=2)\n",
    "\n",
    "\n",
    "checkpoints.restore_checkpoint(CKPT_DIR, target=TARGET_PYTREE, step=4, prefix='test_')"
   ]
  },
  {
   "cell_type": "code",
   "execution_count": 5,
   "id": "7e450d75",
   "metadata": {},
   "outputs": [
    {
     "data": {
      "text/plain": [
       "[12, {'bar': array([2, 3]), 'foo': 'str'}, [1, 4, 10]]"
      ]
     },
     "execution_count": 5,
     "metadata": {},
     "output_type": "execute_result"
    }
   ],
   "source": [
    "CKPT_DIR = './tmp/'\n",
    "\n",
    "# After: Using the Orbax API\n",
    "\n",
    "# At the top level\n",
    "mgr_options = orbax_checkpoint.CheckpointManagerOptions(\n",
    "    max_to_keep=3, keep_period=2, step_prefix='test_')\n",
    "ckpt_mgr = orbax.checkpoint.CheckpointManager(\n",
    "    CKPT_DIR,\n",
    "    orbax.checkpoint.Checkpointer(orbax.checkpoint.PyTreeCheckpointHandler()), mgr_options)\n",
    "\n",
    "# Inside a training loop\n",
    "for step in range(MAX_STEPS):\n",
    "   # do your training\n",
    "   save_args = orbax_utils.save_args_from_target(CKPT_PYTREE)\n",
    "   ckpt_mgr.save(step, CKPT_PYTREE, save_kwargs={'save_args': save_args})\n",
    "\n",
    "\n",
    "restore_args = orbax_utils.restore_args_from_target(TARGET_PYTREE, mesh=None)\n",
    "ckpt_mgr.restore(4, items=TARGET_PYTREE, restore_kwargs={'restore_args': restore_args})"
   ]
  },
  {
   "cell_type": "markdown",
   "id": "25fec81a",
   "metadata": {},
   "source": [
    "## A \"lightweight\" case: \"Pure\" saving/loading without the top-level variable\n",
    "\n",
    "If you prefer to not maintain a top-level checkpoint manager, you can still save and restore any individual checkpoint with an `orbax.checkpoint.Checkpointer`. Note that this means you cannot use all the Orbax management features.\n",
    "\n",
    "To migrate to Orbax code, instead of using the `overwrite` argument in `flax.save_checkpoint()` use the `force` argument in `orbax.checkpoint.Checkpointer.save()`.\n",
    "\n",
    "For example:"
   ]
  },
  {
   "cell_type": "code",
   "execution_count": 6,
   "id": "ae5de4c6",
   "metadata": {},
   "outputs": [
    {
     "data": {
      "text/plain": [
       "[12, {'foo': 'str', 'bar': array([2, 3])}, [1, 4, 10]]"
      ]
     },
     "execution_count": 6,
     "metadata": {},
     "output_type": "execute_result"
    }
   ],
   "source": [
    "PURE_CKPT_DIR = './tmp/pure'\n",
    "\n",
    "# Before: Using the Flax API\n",
    "checkpoints.save_checkpoint(PURE_CKPT_DIR, CKPT_PYTREE, step=0, overwrite=True)\n",
    "checkpoints.restore_checkpoint(PURE_CKPT_DIR, target=TARGET_PYTREE)"
   ]
  },
  {
   "cell_type": "code",
   "execution_count": 7,
   "id": "98ef5a48",
   "metadata": {},
   "outputs": [
    {
     "data": {
      "text/plain": [
       "[12, {'bar': array([2, 3]), 'foo': 'str'}, [1, 4, 10]]"
      ]
     },
     "execution_count": 7,
     "metadata": {},
     "output_type": "execute_result"
    }
   ],
   "source": [
    "PURE_CKPT_DIR_ORBAX = './tmp/pure/orbax'\n",
    "\n",
    "# After: Using the Orbax API\n",
    "ckptr = orbax_checkpoint.Checkpointer(orbax_checkpoint.PyTreeCheckpointHandler())  # A stateless object, can be created on the fly.\n",
    "ckptr.save(PURE_CKPT_DIR_ORBAX, CKPT_PYTREE,\n",
    "           save_args=orbax_utils.save_args_from_target(CKPT_PYTREE), force=True)\n",
    "ckptr.restore(PURE_CKPT_DIR_ORBAX, item=TARGET_PYTREE,\n",
    "              restore_args=orbax_utils.restore_args_from_target(TARGET_PYTREE, mesh=None))"
   ]
  },
  {
   "cell_type": "markdown",
   "id": "6ea249fb",
   "metadata": {},
   "source": [
    "## Restoring checkpoints without a target pytree\n",
    "\n",
    "If you need to restore your checkpoints without a target pytree, pass `item=None` to `orbax.checkpoint.Checkpointer` or pass `items=None` to `orbax.CheckpointManager`'s `.restore()` method, which should trigger the restoration.\n",
    "\n",
    "For example:"
   ]
  },
  {
   "cell_type": "code",
   "execution_count": 8,
   "id": "cce574df",
   "metadata": {},
   "outputs": [
    {
     "data": {
      "text/plain": [
       "{'0': 12,\n",
       " '1': {'foo': 'str', 'bar': array([2, 3])},\n",
       " '2': {'0': 1, '1': 4, '2': 10}}"
      ]
     },
     "execution_count": 8,
     "metadata": {},
     "output_type": "execute_result"
    }
   ],
   "source": [
    "NOTARGET_CKPT_DIR = './tmp/no_target'\n",
    "\n",
    "# Before: Using the Flax API\n",
    "checkpoints.save_checkpoint(NOTARGET_CKPT_DIR, CKPT_PYTREE, step=0)\n",
    "checkpoints.restore_checkpoint(NOTARGET_CKPT_DIR, target=None)"
   ]
  },
  {
   "cell_type": "code",
   "execution_count": 9,
   "id": "632e18db",
   "metadata": {},
   "outputs": [
    {
     "data": {
      "text/plain": [
       "{'0': 12,\n",
       " '1': {'bar': array([2, 3]), 'foo': 'str'},\n",
       " '2': {'0': 1, '1': 4, '2': 10}}"
      ]
     },
     "execution_count": 9,
     "metadata": {},
     "output_type": "execute_result"
    }
   ],
   "source": [
    "NOTARGET_CKPT_DIR = './tmp/no_target/orbax'\n",
    "\n",
    "# After: Using the Orbax API\n",
    "ckptr = orbax_checkpoint.Checkpointer(orbax_checkpoint.PyTreeCheckpointHandler())\n",
    "ckptr.save(NOTARGET_CKPT_DIR, CKPT_PYTREE,\n",
    "           save_args=orbax_utils.save_args_from_target(CKPT_PYTREE))\n",
    "ckptr.restore(NOTARGET_CKPT_DIR, item=None)"
   ]
  },
  {
   "cell_type": "markdown",
   "id": "475a6021",
   "metadata": {},
   "source": [
    "## Async checkpointing\n",
    "\n",
    "To make your checkpoint-saving asynchronous, substitute `orbax.checkpoint.Checkpointer` with `orbax.checkpoint.AsyncCheckpointer`.\n",
    "\n",
    "Then, you can call `orbax.checkpoint.AsyncCheckpointer.wait_until_finished()` or Orbax's `CheckpointerManager.wait_until_finished()` to wait for the save the complete.\n",
    "\n",
    "For more details, read the [checkpoint guide](https://flax.readthedocs.io/en/latest/guides/use_checkpointing.html#asynchronized-checkpointing).\n",
    "\n",
    "## Saving/loading a single JAX or NumPy Array\n",
    "\n",
    "The `orbax.checkpoint.PyTreeCheckpointHandler` class, as the name suggests, can only be used for pytrees. Therefore, if you need to save/restore a single pytree leaf (for example, an array), use `orbax.checkpoint.ArrayCheckpointHandler` instead.\n",
    "\n",
    "For example:"
   ]
  },
  {
   "cell_type": "code",
   "execution_count": 10,
   "id": "d3ae4d8d",
   "metadata": {},
   "outputs": [
    {
     "data": {
      "text/plain": [
       "array([0, 1, 2, 3, 4, 5, 6, 7, 8, 9], dtype=int32)"
      ]
     },
     "execution_count": 10,
     "metadata": {},
     "output_type": "execute_result"
    }
   ],
   "source": [
    "ARR_CKPT_DIR = './tmp/singleton'\n",
    "\n",
    "# Before: Using the Flax API\n",
    "checkpoints.save_checkpoint(ARR_CKPT_DIR, jnp.arange(10), step=0)\n",
    "checkpoints.restore_checkpoint(ARR_CKPT_DIR, target=None)"
   ]
  },
  {
   "cell_type": "code",
   "execution_count": 11,
   "id": "e0cc1a0d",
   "metadata": {},
   "outputs": [
    {
     "data": {
      "text/plain": [
       "array([0, 1, 2, 3, 4, 5, 6, 7, 8, 9], dtype=int32)"
      ]
     },
     "execution_count": 11,
     "metadata": {},
     "output_type": "execute_result"
    }
   ],
   "source": [
    "ARR_CKPT_DIR = './tmp/singleton/orbax'\n",
    "\n",
    "# After: Using the Orbax API\n",
    "ckptr = orbax.checkpoint.Checkpointer(orbax.checkpoint.ArrayCheckpointHandler())  # stateless object, can be created on-fly\n",
    "ckptr.save(ARR_CKPT_DIR, jnp.arange(10))\n",
    "ckptr.restore(ARR_CKPT_DIR, item=None)"
   ]
  }
 ],
 "metadata": {
  "jupytext": {
   "formats": "ipynb,md",
   "main_language": "python"
  },
  "language_info": {
   "codemirror_mode": {
    "name": "ipython",
    "version": 3
   },
   "file_extension": ".py",
   "mimetype": "text/x-python",
   "name": "python",
   "nbconvert_exporter": "python",
   "pygments_lexer": "ipython3",
   "version": "3.9.15"
  }
 },
 "nbformat": 4,
 "nbformat_minor": 5
}
